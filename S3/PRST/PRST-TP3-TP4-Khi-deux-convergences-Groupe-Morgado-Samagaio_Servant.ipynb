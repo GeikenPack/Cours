{
 "cells": [
  {
   "cell_type": "markdown",
   "metadata": {},
   "source": [
    "# TP3 et TP4 de PRST\n",
    "\n",
    "Ce TP est à faire sur deux séances.\n",
    "\n",
    "## Test du Khi-deux (45 minutes maximum)\n",
    "\n",
    "Lorsqu'on collecte des données (relevés statistiques divers, générateur de nombres pseudo-aléatoires...), il peut être utile de connaître un modèle probabiliste de ces données. Ainsi on pourra ensuite prédire certaines valeurs, calculer des probabilités qu'une mesure dépasse une valeur donnée, etc...\n",
    "\n",
    "On peut par exemple supposer que les données mesurées suivent une loi normale, uniforme, etc.. Comment \"tester\" si cette hypothèse est correcte ou non ?\n",
    "\n",
    "C'est le problème de comparaison d'une distribution statistique observée à une distribution de probabilité théorique supposée.\n",
    "\n",
    "Pour cela, on peut réaliser un test du khi-deux.\n",
    "\n",
    "Il consiste en calculer la grandeur : $S=\\sum_{k=1}^n\\frac{(O_k-E_k)^2}{E_k}$\n",
    "\n",
    "Où :\n",
    "* $O_k$ les **effectifs** observés\n",
    "* $E_k$ les **effectifs** théoriques attendus (*expected* en anglais, d'où la lettre $E$...)\n",
    "\n",
    "On voit bien que si $S=0$, alors le modèle colle parfaitement à la réalité. Au plus $S$ va être grand, au plus on va s'éloigner du modèle... Mais quel va être le **seuil** à partir duquel on dira \"on rejette l'hypothèse de confimité entre notre modèle et la réalité\" ?\n",
    "\n",
    "Prenons l'exemple suivant : \n",
    "\n",
    "\n",
    "\n",
    "\n",
    "\n",
    "On admet que $S$ est une variable aléatoire qui suit la loi dite du $\\chi^2$ (khi-deux). Voir votre cours de PRST pour plus de détails."
   ]
  },
  {
   "cell_type": "markdown",
   "metadata": {},
   "source": [
    "### Exercice de découverte\n",
    "\n",
    "On lance 60 fois un dé. On obtient les résultats suivants :\n",
    "\n",
    "| Numéro de la face | 1 | 2 | 3 | 4 | 5 | 6 |\n",
    "| --- | --- | --- | --- | --- | --- |--- |\n",
    "| Effectifs | 15 | 7 | 4 | 11 | 6 | 17 |\n",
    "\n",
    "Peut-on supposer que le dé est truqué avec un risque de 5% de se tromper ? Nous allons répondre à cette question ci-dessous."
   ]
  },
  {
   "cell_type": "markdown",
   "metadata": {},
   "source": [
    "1. Calculer $S$. On utilisera plutôt des listes pour stocker les données."
   ]
  },
  {
   "cell_type": "code",
   "execution_count": 9,
   "metadata": {},
   "outputs": [
    {
     "name": "stdout",
     "output_type": "stream",
     "text": [
      "13.6\n"
     ]
    }
   ],
   "source": [
    "Ok = [15, 7, 4, 11, 6, 17]\n",
    "S = 0.0\n",
    "\n",
    "for elm in Ok:\n",
    "    S += (elm-(60/6))**2/(60/6)\n",
    "\n",
    "print(S)"
   ]
  },
  {
   "cell_type": "markdown",
   "metadata": {},
   "source": [
    "2. Comme dit $S$ est une variable aléatoire qui suit la loi dite du $\\chi^2$. Combien y-a-il de **degrés de liberté** ? Quelle valeur du khi-deux théorique lisez-vous sur la table au seuil de 5%"
   ]
  },
  {
   "cell_type": "markdown",
   "metadata": {},
   "source": [
    "degreLiberte = nbClasses - nbContraintes\n",
    "\n",
    "nbClasses = 6 (6 faces)\n",
    "nbContraintes = 1 (Loi Uniforme)\n",
    "\n",
    "degreLiberte = 6 - 1\n",
    "degreLiberte = 5\n",
    "\n",
    "Khi-deux = 11.070"
   ]
  },
  {
   "cell_type": "markdown",
   "metadata": {},
   "source": []
  },
  {
   "cell_type": "markdown",
   "metadata": {},
   "source": [
    "3. Conclure : rejette-on l'hypothèse que le dé est non pipé au seuil de 5% ? Pourquoi ?"
   ]
  },
  {
   "cell_type": "markdown",
   "metadata": {},
   "source": [
    "13.6 > 11.070 Donc on rejete l'hypothèse."
   ]
  },
  {
   "cell_type": "markdown",
   "metadata": {},
   "source": [
    "4. Retrouvez la valeur ci-dessus en utilisant la fonction `chisquare` du module `scipy.stats`"
   ]
  },
  {
   "cell_type": "code",
   "execution_count": 11,
   "metadata": {},
   "outputs": [
    {
     "name": "stdout",
     "output_type": "stream",
     "text": [
      "Power_divergenceResult(statistic=13.6, pvalue=0.01836019640951945)\n"
     ]
    }
   ],
   "source": [
    "import scipy.stats as sc\n",
    "\n",
    "Ok = [15, 7, 4, 11, 6, 17]\n",
    "\n",
    "print(sc.chisquare(Ok))"
   ]
  },
  {
   "cell_type": "markdown",
   "metadata": {},
   "source": [
    "5. Que représente la `pvalue`? Expliquez."
   ]
  },
  {
   "cell_type": "markdown",
   "metadata": {},
   "source": [
    "La pvalue est la probabilité d'obtenir la même valeur du test si l'hypothèse null est vraie"
   ]
  },
  {
   "cell_type": "markdown",
   "metadata": {},
   "source": [
    "### Exercice d'application : \"birthday spacings\""
   ]
  },
  {
   "cell_type": "markdown",
   "metadata": {},
   "source": [
    "On considère un générateur de nombres pseudos-aléatoires produisant $m$ entiers $I_1, I_2,...,I_m$ compris entre 1 et $n$.\n",
    "\n",
    "On peut voir ça comme $m$ anniversaires dans une année de $n$ jours d'où le nom du test !\n",
    "\n",
    "On les classe par ordre croissant :\n",
    "\n",
    "$I_{(1)}, I_{(2)},...,I_{(m)}$ (les parenthèses en indices signifient simplement qu'ils ont été renumérotés. En effet $I_1$ n'est pas nécessairement égale à $I_{(1)}$\n",
    "\n",
    "On liste ensuite les écarts entre ces $m$ \"anniversaires\" :\n",
    "\n",
    "$I_{(1)}, I_{(2)}-I_{(1)}, ..., I_{(m)}-I_{(m-1)}$\n",
    "\n",
    "On note $Y$ le nombre d'écarts qui apparaissent plus d'une fois dans cette liste. $Y$ vaut alors $m$ moins le nombre d'écarts distincts.\n",
    "\n",
    "On admet que, si le générateur est bon, $Y$ **doit** être distribué selon une loi de Poisson d'espérance $\\frac{m^{3}}{4n}$.\n",
    "\n",
    "D'après l'expérience, on a $n=2^{24}$ et $m=2^{10}$.\n",
    "\n",
    "Dans cet exercice, nous allons tester si le générateur du module `random` passe ce test !"
   ]
  },
  {
   "cell_type": "markdown",
   "metadata": {},
   "source": [
    "1. Générer m valeurs comprises entre 0 et n et les classer dans l'ordre croissant."
   ]
  },
  {
   "cell_type": "code",
   "execution_count": 4,
   "metadata": {},
   "outputs": [],
   "source": [
    "from random import randint\n",
    "listM = []\n",
    "\n",
    "for i in range(pow(2, 10)):\n",
    "    listM.append(randint(0, pow(2, 24)))\n",
    "\n",
    "listM.sort()"
   ]
  },
  {
   "cell_type": "markdown",
   "metadata": {},
   "source": [
    "2. Lister les écarts et dénombrer le nombre de valeurs qui appaaissent plus d'une fois dans la liste. (2 lignes en python avec la structure `set`). On trouve ainsi 1 valeur de $Y$"
   ]
  },
  {
   "cell_type": "code",
   "execution_count": 5,
   "metadata": {},
   "outputs": [
    {
     "name": "stdout",
     "output_type": "stream",
     "text": [
      "17\n"
     ]
    }
   ],
   "source": [
    "liEcarts = []\n",
    "\n",
    "for i in range(len(listM)-1):\n",
    "    liEcarts.append(listM[i+1] - listM[i])\n",
    "\n",
    "ensembleEcarts = set(liEcarts)\n",
    "print(len(liEcarts) - len(ensembleEcarts))"
   ]
  },
  {
   "cell_type": "markdown",
   "metadata": {},
   "source": [
    "3. Écrire une fonction qui va nous générer 500 valeurs de $Y$."
   ]
  },
  {
   "cell_type": "code",
   "execution_count": 6,
   "metadata": {},
   "outputs": [
    {
     "name": "stdout",
     "output_type": "stream",
     "text": [
      "[5, 6, 6, 6, 6, 7, 7, 7, 7, 7, 7, 8, 8, 8, 8, 8, 9, 9, 9, 9, 9, 9, 9, 9, 9, 9, 10, 10, 10, 10, 10, 10, 10, 10, 10, 10, 10, 10, 10, 10, 10, 11, 11, 11, 11, 11, 11, 11, 11, 11, 11, 11, 11, 11, 11, 11, 11, 11, 11, 11, 11, 11, 11, 11, 11, 11, 11, 11, 11, 11, 11, 11, 11, 11, 11, 11, 11, 11, 12, 12, 12, 12, 12, 12, 12, 12, 12, 12, 12, 12, 12, 12, 12, 12, 12, 12, 12, 12, 12, 12, 12, 12, 12, 12, 12, 12, 12, 12, 12, 12, 12, 12, 12, 12, 12, 13, 13, 13, 13, 13, 13, 13, 13, 13, 13, 13, 13, 13, 13, 13, 13, 13, 13, 13, 13, 13, 13, 13, 13, 13, 13, 13, 13, 13, 13, 13, 13, 13, 13, 13, 13, 13, 13, 13, 13, 13, 13, 13, 13, 13, 13, 13, 13, 14, 14, 14, 14, 14, 14, 14, 14, 14, 14, 14, 14, 14, 14, 14, 14, 14, 14, 14, 14, 14, 14, 14, 14, 14, 14, 14, 14, 14, 14, 14, 14, 14, 14, 14, 15, 15, 15, 15, 15, 15, 15, 15, 15, 15, 15, 15, 15, 15, 15, 15, 15, 15, 15, 15, 15, 15, 15, 15, 15, 15, 15, 15, 15, 15, 15, 15, 15, 15, 15, 15, 15, 15, 15, 15, 15, 15, 15, 15, 15, 15, 15, 15, 15, 15, 15, 15, 15, 16, 16, 16, 16, 16, 16, 16, 16, 16, 16, 16, 16, 16, 16, 16, 16, 16, 16, 16, 16, 16, 16, 16, 16, 16, 16, 16, 16, 16, 16, 16, 16, 16, 16, 16, 16, 16, 16, 16, 16, 16, 16, 16, 16, 16, 16, 16, 16, 16, 16, 16, 16, 16, 16, 16, 16, 16, 16, 16, 17, 17, 17, 17, 17, 17, 17, 17, 17, 17, 17, 17, 17, 17, 17, 17, 17, 17, 17, 17, 17, 17, 17, 17, 17, 17, 17, 17, 17, 17, 17, 17, 17, 17, 17, 17, 17, 17, 17, 17, 17, 17, 17, 17, 18, 18, 18, 18, 18, 18, 18, 18, 18, 18, 18, 18, 18, 18, 18, 18, 18, 18, 18, 18, 18, 18, 18, 18, 18, 18, 18, 18, 18, 18, 18, 18, 18, 18, 18, 18, 18, 18, 18, 18, 18, 19, 19, 19, 19, 19, 19, 19, 19, 19, 19, 19, 19, 19, 19, 19, 19, 19, 19, 19, 19, 19, 19, 19, 19, 19, 19, 19, 19, 19, 19, 20, 20, 20, 20, 20, 20, 20, 20, 20, 20, 20, 20, 20, 20, 20, 20, 20, 20, 20, 20, 20, 20, 20, 20, 20, 20, 20, 20, 21, 21, 21, 21, 21, 21, 21, 21, 21, 22, 22, 22, 22, 22, 22, 22, 22, 22, 22, 22, 22, 22, 22, 22, 22, 23, 23, 23, 23, 23, 23, 23, 23, 23, 23, 23, 23, 24, 24, 24, 25, 25, 25, 25, 26, 27, 28]\n"
     ]
    }
   ],
   "source": [
    "def trouverY():\n",
    "    listM = []\n",
    "\n",
    "    for i in range(pow(2, 10)):\n",
    "        listM.append(randint(0, pow(2, 24)))\n",
    "\n",
    "    listM.sort()\n",
    "    liEcarts = []\n",
    "\n",
    "    for i in range(len(listM)-1):\n",
    "        liEcarts.append(listM[i+1] - listM[i])\n",
    "\n",
    "    ensembleEcarts = set(liEcarts)\n",
    "    return(len(liEcarts) - len(ensembleEcarts))\n",
    "\n",
    "liY = []\n",
    "for i in range(500):\n",
    "    liY.append(trouverY())\n",
    "liY.sort()\n",
    "print(liY)"
   ]
  },
  {
   "cell_type": "markdown",
   "metadata": {},
   "source": [
    "  \n",
    "4. Représenter sous forme d'histogramme les données précédentes. Vérifier visuellement que cela semble correspondre à la loi de Poisson cherchée...  "
   ]
  },
  {
   "cell_type": "code",
   "execution_count": 7,
   "metadata": {},
   "outputs": [
    {
     "data": {
      "image/png": "[encoded data removed]",
      "text/plain": [
       "<Figure size 432x288 with 1 Axes>"
      ]
     },
     "metadata": {
      "needs_background": "light"
     },
     "output_type": "display_data"
    }
   ],
   "source": [
    "from matplotlib import pyplot as plt\n",
    "\n",
    "counts, bin, bar = plt.hist(liY)\n",
    "\n",
    "plt.show()\n"
   ]
  },
  {
   "cell_type": "markdown",
   "metadata": {},
   "source": [
    "5. Nous allons faire un test du khi-deux. À partir de l'objet précédent (`plt.hist`, lire la doc), afficher la liste des effectifs observés."
   ]
  },
  {
   "cell_type": "code",
   "execution_count": 8,
   "metadata": {},
   "outputs": [
    {
     "name": "stdout",
     "output_type": "stream",
     "text": [
      "[ 11.  15.  52. 120. 112.  85.  67.  28.   7.   3.]\n"
     ]
    }
   ],
   "source": [
    "print(counts)"
   ]
  },
  {
   "cell_type": "markdown",
   "metadata": {},
   "source": [
    "6. Calculer les effectifs théoriques selon la loi de Poisson visée."
   ]
  },
  {
   "cell_type": "code",
   "execution_count": 9,
   "metadata": {},
   "outputs": [
    {
     "name": "stdout",
     "output_type": "stream",
     "text": [
      "217.07812411598567\n",
      "[0.4916736806934244, 3.738703522519174, 14.296812046361373, 32.24613020383997, 47.36601391238934, 48.482704176865646, 36.32360295397276, 20.677471587349277, 9.210035403224447, 3.286730693010349, 0.9582459357598999]\n"
     ]
    },
    {
     "data": {
      "image/png": "[encoded data removed]",
      "text/plain": [
       "<Figure size 432x288 with 1 Axes>"
      ]
     },
     "metadata": {
      "needs_background": "light"
     },
     "output_type": "display_data"
    }
   ],
   "source": [
    "import math\n",
    "from scipy.special import factorial\n",
    "\n",
    "lambd = 2**30 / (4 * 2**24)\n",
    "\n",
    "\n",
    "effTot = 0\n",
    "for elm in counts:\n",
    "    effTot += elm\n",
    "\n",
    "liEffTheo = []\n",
    "for elm in bin:\n",
    "    liEffTheo.append(math.exp(-lambd) * (lambd**elm/factorial(elm)) * effTot)\n",
    "\n",
    "somme = 0\n",
    "for elm in liEffTheo:\n",
    "    somme += elm\n",
    "print(somme)\n",
    "print(liEffTheo)\n",
    "\n",
    "plt.plot(liEffTheo)\n",
    "plt.show()\n"
   ]
  },
  {
   "cell_type": "markdown",
   "metadata": {},
   "source": [
    "7. Représenter sur un même graphique les effectifs théoriques et les observés."
   ]
  },
  {
   "cell_type": "code",
   "execution_count": 11,
   "metadata": {},
   "outputs": [
    {
     "data": {
      "image/png": "[encoded data removed]",
      "text/plain": [
       "<Figure size 432x288 with 1 Axes>"
      ]
     },
     "metadata": {
      "needs_background": "light"
     },
     "output_type": "display_data"
    }
   ],
   "source": [
    "plt.hist([liY,liEffTheo])\n",
    "plt.show()"
   ]
  },
  {
   "cell_type": "markdown",
   "metadata": {},
   "source": [
    "8. Faites un test du khi-deux et conclure !"
   ]
  },
  {
   "cell_type": "code",
   "execution_count": 12,
   "metadata": {},
   "outputs": [],
   "source": [
    "#Les données précédentes sont fausses"
   ]
  },
  {
   "cell_type": "markdown",
   "metadata": {},
   "source": [
    "### Pour le plaisir\n",
    "\n",
    "Reprendre la même étude (vous êtes libre de sauter certaines étapes) avec le GCL de votre choix !"
   ]
  },
  {
   "cell_type": "code",
   "execution_count": null,
   "metadata": {},
   "outputs": [],
   "source": []
  }
 ],
 "metadata": {
  "kernelspec": {
   "display_name": "Python 3",
   "language": "python",
   "name": "python3"
  },
  "language_info": {
   "codemirror_mode": {
    "name": "ipython",
    "version": 3
   },
   "file_extension": ".py",
   "mimetype": "text/x-python",
   "name": "python",
   "nbconvert_exporter": "python",
   "pygments_lexer": "ipython3",
   "version": "3.9.9"
  }
 },
 "nbformat": 4,
 "nbformat_minor": 4
}
