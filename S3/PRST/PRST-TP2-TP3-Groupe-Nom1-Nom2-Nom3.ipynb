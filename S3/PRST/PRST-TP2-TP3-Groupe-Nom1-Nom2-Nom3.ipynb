{
 "cells": [
  {
   "cell_type": "markdown",
   "metadata": {},
   "source": [
    "# TP2 et TP3 de PRST\n",
    "\n",
    "Groupe de TP : \n",
    "\n",
    "Nom 1, prénom 1 :\n",
    "Nom 2, prénom 2 :\n",
    "Nom 3, prénom 3 :\n",
    "\n",
    "\n",
    "\n",
    "On dispose d'un sac de 100 pièces, parmi lesquelles $m$ sont fausses : elles possèdent deux faces identiques (et pas de piles). \n",
    "\n",
    "On tire au hasard une pièce parmi les 100, sans contrôler si elle est bonne ou fausse. On la lance en l'air $n$ fois et note à chaque fois la sortie  : on obtient $n$  faces consécutives."
   ]
  },
  {
   "cell_type": "markdown",
   "metadata": {},
   "source": [
    "1. En utilisant le théorème de Bayes, exprimer la probabilité que la pièce soit fausse, sachant qu'on a obtenu $n$ faces consécutives après $n$ lancers, en fonction de $m$ et $n$."
   ]
  },
  {
   "cell_type": "markdown",
   "metadata": {},
   "source": [
    "F = pièce fausse\n",
    "V = pièce bonne\n",
    "nF = n faces consécutives en n lancers\n",
    "\n",
    "P(F | nF) = $\\frac{P(nF | F) x P(F)}{P(nF | F) x P(F) + P(nF | V) * P(V)}$\n",
    "\n",
    "P(F [ nF] = $\\frac{frac{m}{100}}{\\dfrac{m}{100} + (\\frac{m}{100}^n * \\dfrac{100 - m}{100})})$"
   ]
  },
  {
   "cell_type": "markdown",
   "metadata": {},
   "source": [
    "2. Calculer numériquement $P(Fausse|n=3)$ si $m =10$."
   ]
  },
  {
   "cell_type": "code",
   "execution_count": null,
   "metadata": {},
   "outputs": [],
   "source": []
  },
  {
   "cell_type": "markdown",
   "metadata": {},
   "source": [
    "3. Calculer numériquement $P(Fausse|n=7)$ si $m =10$."
   ]
  },
  {
   "cell_type": "code",
   "execution_count": null,
   "metadata": {},
   "outputs": [],
   "source": []
  },
  {
   "cell_type": "markdown",
   "metadata": {},
   "source": [
    "4. Calculer numériquement $P(Fausse|n=10)$ si $m =10$."
   ]
  },
  {
   "cell_type": "code",
   "execution_count": null,
   "metadata": {},
   "outputs": [],
   "source": []
  },
  {
   "cell_type": "markdown",
   "metadata": {},
   "source": [
    "5. Écrire un programme Python qui calcule toutes les probabilités, pour $m=10$ avec $n$ variant de 1 à 15. Ce programme représentera ces probabilités par une courbe."
   ]
  },
  {
   "cell_type": "code",
   "execution_count": null,
   "metadata": {},
   "outputs": [],
   "source": []
  },
  {
   "cell_type": "markdown",
   "metadata": {},
   "source": [
    "6. On fixe $m=10$. Déterminer la valeur de $n$ à partir de laquelle $P(F|N)>\\alpha$ avec un seuil $\\alpha$ valant $80~\\%$, $90~\\%$ puis $99 ~\\%$."
   ]
  },
  {
   "cell_type": "code",
   "execution_count": null,
   "metadata": {},
   "outputs": [],
   "source": []
  },
  {
   "cell_type": "markdown",
   "metadata": {},
   "source": [
    "  \n",
    "7. Utiliser le programme précédent pour représenter sur un même graphique les courbes correspondant à $m=1$, $m=5$, $m=10$  pour $n$ variant de 1 à 15.  "
   ]
  },
  {
   "cell_type": "code",
   "execution_count": null,
   "metadata": {},
   "outputs": [],
   "source": []
  }
 ],
 "metadata": {
  "kernelspec": {
   "display_name": "Python 3",
   "language": "python",
   "name": "python3"
  },
  "language_info": {
   "codemirror_mode": {
    "name": "ipython",
    "version": 3
   },
   "file_extension": ".py",
   "mimetype": "text/x-python",
   "name": "python",
   "nbconvert_exporter": "python",
   "pygments_lexer": "ipython3",
   "version": "3.9.7"
  }
 },
 "nbformat": 4,
 "nbformat_minor": 4
}
