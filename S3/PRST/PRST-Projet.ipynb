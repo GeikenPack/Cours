{
 "cells": [
  {
   "cell_type": "markdown",
   "metadata": {},
   "source": [
    "# Sujet 3 : GCL et loi normale\n",
    "\n",
    "\n",
    "\n",
    "Dans ce projet, on va utiliser deux GCL RANDU dont les caractéristiques sont les suivantes :\n",
    "\n",
    "xn+1≡(65539xn)[231\n",
    "] avec x0=12131\n",
    "\n",
    "et :\n",
    "\n",
    "yn+1≡(65539yn)[231\n",
    "] avec y0=54531\n",
    "\n",
    "pour obtenir une loi normale de moyenne 5 et d’écart-type 1 selon la méthode suivante :\n",
    "\n",
    "Une fois la suite X (d’entiers) obtenue, on va en déduire une suite U de flottants dans l’intervalle [0,1].\n",
    "\n",
    "On demande d’obtenir 3 tableaux de flottants U basés sur la suite GCL (des X) initiale :\n",
    "\n",
    "    10 000 éléments, on note cette suite U1\n",
    "\n",
    "30 000 éléments U, on note cette suite U2\n",
    "\n",
    "100 000 éléments U, on note cette suite U3\n",
    "\n",
    "On procédera de même pour obtenir 3 suites V1\n",
    ",V2 et V3\n",
    "\n",
    "basées sur le GCL Y.\n",
    "\n",
    "Si on combine les suites U et V selon la transformation :\n",
    "\n",
    "Z=m+σ−2lnU−−−−−−√sin(2πV)\n",
    "\n",
    "On obtient une nouvelle suite que vous devrez représenter sous forme d’un histogramme entre 2 et 9.\n",
    "\n",
    "Vous pouvez obtenir plusieurs histogrammes avec un nombre de classes différents.\n",
    "\n",
    "Peut on dire que la suite Z est une suite de type gaussienne comme annoncé ?\n"
   ]
  },
  {
   "cell_type": "code",
   "execution_count": 35,
   "metadata": {},
   "outputs": [],
   "source": [
    "import sys\n",
    "\n",
    "sys.setrecursionlimit(10**6)\n",
    "\n",
    "def gcl1(n):\n",
    "    res = 0\n",
    "    if (n == 0):\n",
    "        return 12131\n",
    "    else:\n",
    "        for i in range(n):\n",
    "            res = (65539*n)%(2**31)\n",
    "    return res\n",
    "\n",
    "def gcl2(n):\n",
    "    res = 0\n",
    "    if (n == 0):\n",
    "        return 54531\n",
    "    else:\n",
    "        for i in range(n):\n",
    "            res = (65539*n)%(2**31)\n",
    "    return res\n",
    "\n",
    "U1 = []\n",
    "V1 = []\n",
    "\n",
    "for i in range(10000):\n",
    "    U1.append(float(gcl1(i))/2**31)\n",
    "    V1.append(float(gcl2(i))/2**31)\n",
    "\n",
    "U2 = []\n",
    "V2 = []\n",
    "\n",
    "for i in range(30000):\n",
    "    U2.append(float(gcl1(i))/float(2**31))\n",
    "    V2.append(float(gcl2(i))/float(2**31))\n"
   ]
  },
  {
   "cell_type": "code",
   "execution_count": 36,
   "metadata": {},
   "outputs": [
    {
     "data": {
      "image/png": "[encoded data removed]",
      "text/plain": [
       "<Figure size 432x288 with 1 Axes>"
      ]
     },
     "metadata": {
      "needs_background": "light"
     },
     "output_type": "display_data"
    },
    {
     "data": {
      "image/png": "[encoded data removed]",
      "text/plain": [
       "<Figure size 432x288 with 1 Axes>"
      ]
     },
     "metadata": {
      "needs_background": "light"
     },
     "output_type": "display_data"
    },
    {
     "data": {
      "image/png": "[encoded data removed]",
      "text/plain": [
       "<Figure size 432x288 with 1 Axes>"
      ]
     },
     "metadata": {
      "needs_background": "light"
     },
     "output_type": "display_data"
    },
    {
     "data": {
      "image/png": "[encoded data removed]",
      "text/plain": [
       "<Figure size 432x288 with 1 Axes>"
      ]
     },
     "metadata": {
      "needs_background": "light"
     },
     "output_type": "display_data"
    }
   ],
   "source": [
    "from matplotlib import pyplot as plt\n",
    "\n",
    "plt.hist(U1, edgecolor='k')\n",
    "\n",
    "plt.show()\n",
    "\n",
    "plt.hist(U2, edgecolor='k')\n",
    "\n",
    "plt.show()\n",
    "\n",
    "plt.hist(V1, edgecolor='k')\n",
    "\n",
    "plt.show()\n",
    "\n",
    "plt.hist(V2, edgecolor='k')\n",
    "\n",
    "plt.show()"
   ]
  },
  {
   "cell_type": "code",
   "execution_count": null,
   "metadata": {},
   "outputs": [],
   "source": [
    "m = 5\n",
    "o = 1\n"
   ]
  }
 ],
 "metadata": {
  "interpreter": {
   "hash": "e7370f93d1d0cde622a1f8e1c04877d8463912d04d973331ad4851f04de6915a"
  },
  "kernelspec": {
   "display_name": "Python 3.9.9 64-bit",
   "language": "python",
   "name": "python3"
  },
  "language_info": {
   "codemirror_mode": {
    "name": "ipython",
    "version": 3
   },
   "file_extension": ".py",
   "mimetype": "text/x-python",
   "name": "python",
   "nbconvert_exporter": "python",
   "pygments_lexer": "ipython3",
   "version": "3.9.9"
  },
  "orig_nbformat": 4
 },
 "nbformat": 4,
 "nbformat_minor": 2
}
